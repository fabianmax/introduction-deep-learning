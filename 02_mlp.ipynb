{
 "cells": [
  {
   "cell_type": "markdown",
   "metadata": {},
   "source": [
    "# Introduction to Deep Learning with Python"
   ]
  },
  {
   "cell_type": "markdown",
   "metadata": {},
   "source": [
    "## Chapter 2: Multilayer Perceptrons"
   ]
  },
  {
   "cell_type": "markdown",
   "metadata": {},
   "source": [
    "### 2.1  Network Architecture\n",
    "\n",
    "Recall that a learning problem can be understood as approximating some function **$f^*$**, e.g. $y = f^*(x)$ maps the **input $x$** to some **output $y$**. And a learning algorithmen tries to learn the values of parameters $\\theta$ so that a given function $y = f(x;\\theta)$ approximates $f^*$ in the best possible way.   \n",
    "\n",
    "In the case of the perceptron, $f(x;\\theta)$ was the weighted some of the inputs and $\\theta$ was the weight vector ${[w_1, w_2, ..., w_n]}$ (and the bias $b)$. A multiplayer perceptron (MLP), also called Deep Learning, Deep feedforwards network, or feedforwards neural network, expands this idea by composing many functions together:\n",
    "\n",
    "$$f(x) = f^{(3)}(f^{(2)}(f^{(1)}(x)))$$\n",
    "\n",
    "Such directed acyclic graph, were $f^{(1)}$ is called the **first layer**, $f^{(2)}$ is called the **second layer**, and $f^{(3)}$ is called the **third layer**, can be seen as the typical archictecture used in modern neural networks. "
   ]
  },
  {
   "cell_type": "markdown",
   "metadata": {},
   "source": [
    "![Perceptron](00_ressources/img/chapter_2/network_architecture.jpeg)"
   ]
  },
  {
   "cell_type": "markdown",
   "metadata": {},
   "source": [
    "In chapter 1.2, we saw that learning $w$ is not that problematic. The real challange is having the rights inputs $x$. One way to solve this problem is to manually engineer a feature vector $\\phi(x)$ from the input vector $x$ using a nonlinear transformation $\\phi$. We than use $\\phi(x)$ instead of $x$ to solve the problem at hand. \n",
    "\n",
    "As already mentioned, support vector machines use an alternative method were $\\phi$ is a predefined function such as the radial basis function (RBF) kernel, which proven to be helpful in a lot of problems.  \n",
    "\n",
    "In contrast, deep learning does neither use manually engineered features nor predefined functions but tries to learn $\\phi$ from the given data:\n",
    "\n",
    "$$y = f(x;\\theta,w) = \\phi(x, \\theta)^{T}w,$$\n",
    "\n",
    "where $\\theta$ is a parameter vector used to learn a function $\\phi$, and $w$ is a weight vector that maps from $\\phi(x)$ to $y$. Or in other words, given a generic function $\\phi$ parametrized as $\\phi(x;\\theta)$, let an algorithmen find the best $\\theta$ to have a useful new repsentation (feature) of $x$.\n"
   ]
  },
  {
   "cell_type": "markdown",
   "metadata": {},
   "source": [
    "### 2.2 XOR Problem revisited\n",
    "\n",
    "Recall the **XOR** problem from last chapter where $X = \\{[0,0], [0,1], [1,0], [1,1]\\}$ and $y = \\{0,1,1,0\\}$. A single perceptron unit was not able to learn this problem correctly. Let's see whether a more complicate models can handle the problem.\n",
    "\n",
    "Define a neural network with one hidden layer and two hidden units $h$ calculated as\n",
    "\n",
    "$$h = f^1(x;w_1,b_1)$$\n",
    "\n",
    "and a linear output defined as\n",
    "\n",
    "$$y=f^2(h;w_2,b_2)$$"
   ]
  },
  {
   "cell_type": "code",
   "execution_count": 28,
   "metadata": {
    "collapsed": false
   },
   "outputs": [],
   "source": [
    "import numpy as np\n",
    "import random\n",
    "\n",
    "# Same data (this time without bias)\n",
    "X = np.array([[0,0], \n",
    "              [0,1], \n",
    "              [1,0], \n",
    "              [1,1]]\n",
    "            )\n",
    "\n",
    "# Updated label\n",
    "y = np.array([0,1,1,0])\n",
    "\n",
    "# Weights of hidden units\n",
    "w_1 = np.array([[1,1],\n",
    "              [1,1]\n",
    "             ])\n",
    "\n",
    "# Bias of hidden units\n",
    "b_1 = np.array([0,-1])\n",
    "\n",
    "# Weights to output\n",
    "w_2 = np.array([1,-2])\n",
    "\n",
    "# Bias to output\n",
    "b_2 = 0"
   ]
  },
  {
   "cell_type": "markdown",
   "metadata": {},
   "source": []
  },
  {
   "cell_type": "code",
   "execution_count": 29,
   "metadata": {
    "collapsed": false
   },
   "outputs": [
    {
     "name": "stdout",
     "output_type": "stream",
     "text": [
      "[[0 0]\n",
      " [1 1]\n",
      " [1 1]\n",
      " [2 2]]\n"
     ]
    }
   ],
   "source": [
    "# Multiply input by weights w_1 of hidden units\n",
    "xw_1 = np.dot(X, w_1)\n",
    "print(xw_1)"
   ]
  },
  {
   "cell_type": "code",
   "execution_count": 30,
   "metadata": {
    "collapsed": false
   },
   "outputs": [
    {
     "name": "stdout",
     "output_type": "stream",
     "text": [
      "[[ 0 -1]\n",
      " [ 1  0]\n",
      " [ 1  0]\n",
      " [ 2  1]]\n"
     ]
    }
   ],
   "source": [
    "# Add bias\n",
    "xw_1b_1 = xw_1 + b_1\n",
    "print(xw_1b_1)"
   ]
  },
  {
   "cell_type": "code",
   "execution_count": 31,
   "metadata": {
    "collapsed": false
   },
   "outputs": [
    {
     "name": "stdout",
     "output_type": "stream",
     "text": [
      "[[0 0]\n",
      " [1 0]\n",
      " [1 0]\n",
      " [2 1]]\n"
     ]
    }
   ],
   "source": [
    "# Define rectified linear unit\n",
    "def relu(x):\n",
    "    if x > 0:\n",
    "        return(x)\n",
    "    else:\n",
    "        return(0)\n",
    "\n",
    "# Vectorized applying relu  \n",
    "f = np.vectorize(relu)    \n",
    "h = f(xw_1b_1)\n",
    "print(h)"
   ]
  },
  {
   "cell_type": "code",
   "execution_count": 32,
   "metadata": {
    "collapsed": false
   },
   "outputs": [
    {
     "name": "stdout",
     "output_type": "stream",
     "text": [
      "[0 1 1 0]\n"
     ]
    }
   ],
   "source": [
    "# Output\n",
    "out = np.dot(h, w_2)\n",
    "out = out + b_2\n",
    "print(out)"
   ]
  },
  {
   "cell_type": "markdown",
   "metadata": {},
   "source": [
    "### 2.3 Types of hidden Units"
   ]
  },
  {
   "cell_type": "code",
   "execution_count": null,
   "metadata": {
    "collapsed": true
   },
   "outputs": [],
   "source": []
  }
 ],
 "metadata": {
  "kernelspec": {
   "display_name": "Python 3",
   "language": "python",
   "name": "python3"
  },
  "language_info": {
   "codemirror_mode": {
    "name": "ipython",
    "version": 3
   },
   "file_extension": ".py",
   "mimetype": "text/x-python",
   "name": "python",
   "nbconvert_exporter": "python",
   "pygments_lexer": "ipython3",
   "version": "3.4.3"
  }
 },
 "nbformat": 4,
 "nbformat_minor": 2
}
