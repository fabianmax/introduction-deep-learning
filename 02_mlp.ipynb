{
 "cells": [
  {
   "cell_type": "markdown",
   "metadata": {
    "deletable": true,
    "editable": true
   },
   "source": [
    "# Introduction to Deep Learning with Python"
   ]
  },
  {
   "cell_type": "markdown",
   "metadata": {
    "deletable": true,
    "editable": true
   },
   "source": [
    "## Chapter 2: Multilayer Perceptrons"
   ]
  },
  {
   "cell_type": "markdown",
   "metadata": {
    "deletable": true,
    "editable": true
   },
   "source": [
    "### 2.1  Network Architecture\n",
    "\n",
    "Recall that a learning problem can be understood as approximating some function **$f^*$**, e.g. $y = f^*(x)$ maps the **input $x$** to some **output $y$**. And a learning algorithmen tries to learn the values of parameters $\\theta$ so that a given function $y = f(x;\\theta)$ approximates $f^*$ in the best possible way.   \n",
    "\n",
    "In the case of the perceptron, $f(x;\\theta)$ was the weighted some of the inputs and $\\theta$ was the weight vector ${[w_1, w_2, ..., w_n]}$ (and the bias $b)$. A multiplayer perceptron (MLP), also called Deep Learning, Deep feedforwards network, or feedforwards neural network, expands this idea by composing many functions together:\n",
    "\n",
    "$$f(x) = f^{(3)}(f^{(2)}(f^{(1)}(x)))$$\n",
    "\n",
    "Such directed acyclic graph, were $f^{(1)}$ is called the **first layer**, $f^{(2)}$ is called the **second layer**, and $f^{(3)}$ is called the **third layer**, can be seen as the typical archictecture used in modern neural networks. "
   ]
  },
  {
   "cell_type": "markdown",
   "metadata": {
    "deletable": true,
    "editable": true
   },
   "source": [
    "![Perceptron](00_ressources/img/chapter_2/network_architecture.jpeg)"
   ]
  },
  {
   "cell_type": "markdown",
   "metadata": {
    "deletable": true,
    "editable": true
   },
   "source": [
    "In chapter 1.2, we saw that learning $w$ is not that problematic. The real challange is having the rights inputs $x$. One way to solve this problem is to manually engineer a feature vector $\\phi(x)$ from the input vector $x$ using a nonlinear transformation $\\phi$. We than use $\\phi(x)$ instead of $x$ to solve the problem at hand. \n",
    "\n",
    "As already mentioned, support vector machines use an alternative method were $\\phi$ is a predefined function such as the radial basis function (RBF) kernel, which proven to be helpful in a lot of problems.  \n",
    "\n",
    "In contrast, deep learning does neither use manually engineered features nor predefined functions but tries to learn $\\phi$ from the given data:\n",
    "\n",
    "$$y = f(x;\\theta,w) = \\phi(x, \\theta)^{T}w,$$\n",
    "\n",
    "where $\\theta$ is a parameter vector used to learn a function $\\phi$, and $w$ is a weight vector that maps from $\\phi(x)$ to $y$. Or in other words, given a generic function $\\phi$ parametrized as $\\phi(x;\\theta)$, let an algorithmen find the best $\\theta$ to have a useful new repsentation (feature) of $x$.\n"
   ]
  },
  {
   "cell_type": "markdown",
   "metadata": {
    "deletable": true,
    "editable": true
   },
   "source": [
    "### 2.2 XOR Problem revisited\n",
    "\n",
    "Recall the **XOR** problem from last chapter where $X = \\{[0,0], [0,1], [1,0], [1,1]\\}$ and $y = \\{0,1,1,0\\}$. A single perceptron unit was not able to learn this problem correctly. Let's see whether a more complex models can handle it.\n",
    "\n",
    "Similar to the example above, a neural network with one hidden layer can be written as:\n",
    "\n",
    "$$f(x;w_1,b_1,w_2,b_2) = f^{(2)}(f^{(1)}(x)),$$\n",
    "\n",
    "where $w_1$ is the weight vector of the hidden layer, $b_1$ is the bias vector of the hidden layer, $w_2$ is the weight vector from the hidden layer to the output layer, and $b_2$ is the corresponding bias vector.\n",
    "\n",
    "Further one can unchain the expression and end up with \n",
    "\n",
    "$$h^* = f^1(x;w_1,b_1),$$\n",
    "\n",
    "where $h^*$ is the linear output from the first hidden layer and\n",
    "\n",
    "$$y=f^2(h;w_2,b_2)$$\n",
    "\n",
    "is the linear output from the output layer. Finally, let $h=g(x;w_1,b_1)$ be a nonlinear activation function to the first hidden layer defined as $g(z) = max\\{0,z\\}$. "
   ]
  },
  {
   "cell_type": "code",
   "execution_count": 2,
   "metadata": {
    "collapsed": true,
    "deletable": true,
    "editable": true
   },
   "outputs": [],
   "source": [
    "import random\n",
    "import math\n",
    "import numpy as np\n",
    "import matplotlib.pyplot as plt"
   ]
  },
  {
   "cell_type": "code",
   "execution_count": 3,
   "metadata": {
    "collapsed": false,
    "deletable": true,
    "editable": true
   },
   "outputs": [],
   "source": [
    "# Same data (this time without bias)\n",
    "X = np.array([[0,0], \n",
    "              [0,1], \n",
    "              [1,0], \n",
    "              [1,1]]\n",
    "            )\n",
    "\n",
    "# Updated label\n",
    "y = np.array([0,1,1,0])\n",
    "\n",
    "# Weights of hidden units\n",
    "w_1 = np.array([[1,1],\n",
    "              [1,1]\n",
    "             ])\n",
    "\n",
    "# Bias of hidden units\n",
    "b_1 = np.array([0,-1])\n",
    "\n",
    "# Weights to output\n",
    "w_2 = np.array([1,-2])\n",
    "\n",
    "# Bias to output\n",
    "b_2 = 0"
   ]
  },
  {
   "cell_type": "markdown",
   "metadata": {
    "deletable": true,
    "editable": true
   },
   "source": [
    "Starting with the hidden layer, evaluate $f(x;w_1,b_1)$ by calculating $xw_1$:"
   ]
  },
  {
   "cell_type": "code",
   "execution_count": 4,
   "metadata": {
    "collapsed": false,
    "deletable": true,
    "editable": true
   },
   "outputs": [
    {
     "name": "stdout",
     "output_type": "stream",
     "text": [
      "[[0 0]\n",
      " [1 1]\n",
      " [1 1]\n",
      " [2 2]]\n"
     ]
    }
   ],
   "source": [
    "xw_1 = np.dot(X, w_1)\n",
    "print(xw_1)"
   ]
  },
  {
   "cell_type": "markdown",
   "metadata": {
    "deletable": true,
    "editable": true
   },
   "source": [
    "... and add bias $b_1$ to the resulting matrix"
   ]
  },
  {
   "cell_type": "code",
   "execution_count": 5,
   "metadata": {
    "collapsed": false,
    "deletable": true,
    "editable": true
   },
   "outputs": [
    {
     "name": "stdout",
     "output_type": "stream",
     "text": [
      "[[ 0 -1]\n",
      " [ 1  0]\n",
      " [ 1  0]\n",
      " [ 2  1]]\n"
     ]
    }
   ],
   "source": [
    "xw_1b_1 = xw_1 + b_1\n",
    "print(xw_1b_1)"
   ]
  },
  {
   "cell_type": "markdown",
   "metadata": {
    "deletable": true,
    "editable": true
   },
   "source": [
    "Element-wise applying $max\\{0,z\\}$ to $xw_1 + b_1$ gives $h$"
   ]
  },
  {
   "cell_type": "code",
   "execution_count": 6,
   "metadata": {
    "collapsed": false,
    "deletable": true,
    "editable": true
   },
   "outputs": [
    {
     "name": "stdout",
     "output_type": "stream",
     "text": [
      "[[0 0]\n",
      " [1 0]\n",
      " [1 0]\n",
      " [2 1]]\n"
     ]
    }
   ],
   "source": [
    "# Rectified linear unit\n",
    "def relu(x):\n",
    "    if x > 0:\n",
    "        return(x)\n",
    "    else:\n",
    "        return(0)\n",
    "\n",
    "f = np.vectorize(relu)    \n",
    "h = f(xw_1b_1)\n",
    "print(h)"
   ]
  },
  {
   "cell_type": "markdown",
   "metadata": {
    "deletable": true,
    "editable": true
   },
   "source": [
    "Given $h$, $y$ can be calculated as $hw_2+b_2$"
   ]
  },
  {
   "cell_type": "code",
   "execution_count": 7,
   "metadata": {
    "collapsed": false,
    "deletable": true,
    "editable": true
   },
   "outputs": [
    {
     "name": "stdout",
     "output_type": "stream",
     "text": [
      "[0 1 1 0]\n"
     ]
    }
   ],
   "source": [
    "out = np.dot(h, w_2)\n",
    "out = out + b_2\n",
    "print(out)"
   ]
  },
  {
   "cell_type": "markdown",
   "metadata": {
    "deletable": true,
    "editable": true
   },
   "source": [
    "Recall that the initial target vector was $y = \\{0,1,1,0\\}$ and the neural network correctly outputs $\\hat{y} = \\{0,1,1,0\\}$."
   ]
  },
  {
   "cell_type": "markdown",
   "metadata": {
    "deletable": true,
    "editable": true
   },
   "source": [
    "### 2.3 Types of hidden Units"
   ]
  },
  {
   "cell_type": "code",
   "execution_count": 8,
   "metadata": {
    "collapsed": false,
    "deletable": true,
    "editable": true
   },
   "outputs": [],
   "source": [
    "%matplotlib inline"
   ]
  },
  {
   "cell_type": "markdown",
   "metadata": {
    "deletable": true,
    "editable": true
   },
   "source": [
    "The type of a hidden unit is mainly characterised by the *activation function* it uses. The activation function $g(z)$ determines how the unit's input $z$ is transformed to the unit's output. The most commonly used activation functions are:\n",
    "\n",
    "- Step-function\n",
    "- Sigmoid\n",
    "- Rectified Linear \n",
    "- Hyperbolic Tangent\n",
    "\n",
    "Other activation functions:\n",
    "\n",
    "- Radial basis function (RBF)\n",
    "- Softplus\n",
    "- Maxout\n",
    "- Hard tanh"
   ]
  },
  {
   "cell_type": "markdown",
   "metadata": {
    "deletable": true,
    "editable": true
   },
   "source": [
    "#### 2.3.1 Step-function\n",
    "\n",
    "The Step-function, sometimes also called *Hard limiter*, or *threshold function*, is defined as:\n",
    "\n",
    "$$g(z) = \n",
    "\\begin{cases}\n",
    "    0 &\\text{if $z < 0$}\\cr  \n",
    "    1 &\\text{if $z \\geq 0$}\n",
    "\\end{cases}$$\n",
    "\n",
    "- Used in perceptrons\n",
    "- Simple all-or-none property"
   ]
  },
  {
   "cell_type": "code",
   "execution_count": 9,
   "metadata": {
    "collapsed": false,
    "deletable": true,
    "editable": true
   },
   "outputs": [
    {
     "data": {
      "image/png": "[encoded data removed]",
      "text/plain": [
       "<matplotlib.figure.Figure at 0x1059fbf28>"
      ]
     },
     "metadata": {},
     "output_type": "display_data"
    }
   ],
   "source": [
    "def unit_step(x):\n",
    "    a = []\n",
    "    for i in x:\n",
    "        if i < 0:\n",
    "            a.append(0)\n",
    "        else:\n",
    "            a.append(1)\n",
    "    return(a)\n",
    "\n",
    "x = np.arange(-10., 10., 0.1)\n",
    "y = unit_step(x)\n",
    "plt.plot(x,y)\n",
    "plt.axvline(x = 0, color = 'r', alpha = .5, linestyle = 'dashed')\n",
    "plt.title('Hard Limiter')\n",
    "plt.show()"
   ]
  },
  {
   "cell_type": "markdown",
   "metadata": {
    "deletable": true,
    "editable": true
   },
   "source": [
    "#### 2.3.2 Sigmoid function\n",
    "\n",
    "The main disadvantage of the step-function is it's all-or-none property. In learning, we want to see how small changes in the inputs (mainly the weights) changes the output. With a step-function this is hard, because the outputs either stays the same or flips completly. A natural way to overcome this limitation is the usage of a smoothed out version of a the step function, know as sigmoid:\n",
    "\n",
    "$$g(z) = \\sigma(z) = \\frac{1}{1+exp(-az)}$$\n",
    "\n",
    "with slope parameter $a$ (for $a = 1$ known as the *logistic function*).\n",
    "\n",
    "- Havely used in deep learning until recent years\n",
    "- Strongly sensitive for $z\\approx0$\n",
    "- Saturation for both hight and low values of $z$\n",
    "- Actual value of $\\alpha$ often neglectable"
   ]
  },
  {
   "cell_type": "code",
   "execution_count": 10,
   "metadata": {
    "collapsed": false,
    "deletable": true,
    "editable": true
   },
   "outputs": [
    {
     "data": {
      "image/png": "[encoded data removed]",
      "text/plain": [
       "<matplotlib.figure.Figure at 0x105acada0>"
      ]
     },
     "metadata": {},
     "output_type": "display_data"
    }
   ],
   "source": [
    "def sigmoid(x):\n",
    "    a = []\n",
    "    for i in x:\n",
    "        a.append(1/(1+math.exp(-i)))\n",
    "    return(a)\n",
    "\n",
    "x = np.arange(-10., 10., 0.1)\n",
    "y = sigmoid(x)\n",
    "plt.plot(x,y)\n",
    "plt.axvline(x = 0, color = 'r', alpha = .5, linestyle = 'dashed')\n",
    "plt.title('Sigmoid')\n",
    "plt.xlabel('Input')\n",
    "plt.ylabel('Output')\n",
    "plt.show()"
   ]
  },
  {
   "cell_type": "markdown",
   "metadata": {
    "deletable": true,
    "editable": true
   },
   "source": [
    "#### 2.3.2 Rectified Linear\n",
    "\n",
    "Given the sigmoid's saturation to 0 or 1, the sigmoids's gradient settles to 0 for large and small values of $z$. This can be a problem when we use the gradient for learning (especially in deep neural networks, where this problem ist called *vanishing gradients*).   \n",
    "The rectified linear function (ReLU), also known as *piecewise linear unit*, solves this problem by having large and increasing gradients whenever the unit is active. It is therefore the most commonly used activation function for deep neural networks:\n",
    "\n",
    "$$g(z) = max\\{0, z\\}$$\n",
    "\n",
    "- Seems to work better than sigmoid in deep neural networks\n",
    "- Solves vanishing gradient problem\n",
    "- Gradient not defined for $z=0$, but there are workarounds like *Absolut Value Rectification* ([Jarrett et al. 2009][1]) , *Leaky ReLU* ([Maas et al. 2013][2]), and *Parametric ReLU* [He et al. 2015][3]*\n",
    "- Sometimes not usable when additional requirements are needed (e.g. in recurrent networks or autoencoders) \n",
    "\n",
    "[1]: http://yann.lecun.com/exdb/publis/pdf/jarrett-iccv-09.pdf\n",
    "[2]: http://ai.stanford.edu/~amaas/papers/relu_hybrid_icml2013_final.pdf\n",
    "[3]: https://arxiv.org/pdf/1512.03385.pdf"
   ]
  },
  {
   "cell_type": "code",
   "execution_count": 11,
   "metadata": {
    "collapsed": false,
    "deletable": true,
    "editable": true
   },
   "outputs": [
    {
     "data": {
      "image/png": "[encoded data removed]",
      "text/plain": [
       "<matplotlib.figure.Figure at 0x1059fb438>"
      ]
     },
     "metadata": {},
     "output_type": "display_data"
    }
   ],
   "source": [
    "def relu(x):\n",
    "    a = []\n",
    "    for i in x:\n",
    "        if i > 0:\n",
    "            a.append(i)\n",
    "        else:\n",
    "            a.append(0)\n",
    "    return(a)\n",
    "\n",
    "x = np.arange(-10., 10., 0.1)\n",
    "y = relu(x)\n",
    "plt.plot(x,y)\n",
    "plt.axvline(x = 0, color = 'r', alpha = .5, linestyle = 'dashed')\n",
    "plt.title('Rectified Linear')\n",
    "plt.xlabel('Input')\n",
    "plt.ylabel('Output')\n",
    "plt.show()"
   ]
  },
  {
   "cell_type": "markdown",
   "metadata": {
    "deletable": true,
    "editable": true
   },
   "source": [
    "#### 2.3.3 Hyperbolic Tangent\n",
    "\n",
    "Whenever the ReLU is not usable, the Hyperbolic Tangen (tanh) seems to be perform better than the sigmoid. It is defined as:\n",
    "\n",
    "$$g(z) = \\tanh(z) = \\frac{sinh(z)}{cosh(z)} = \\frac{exp(2z)-1}{exp(2z)+1}$$\n",
    "\n",
    "- Rescaled and bias version of sigmoid\n",
    "- More similar to ReLu in that for $z = 0$, $tanh(0) = 0$ and $\\sigma(0) = \\frac{1}{2}$"
   ]
  },
  {
   "cell_type": "code",
   "execution_count": 12,
   "metadata": {
    "collapsed": false,
    "deletable": true,
    "editable": true
   },
   "outputs": [
    {
     "data": {
      "image/png": "[encoded data removed]",
      "text/plain": [
       "<matplotlib.figure.Figure at 0x105bc6ba8>"
      ]
     },
     "metadata": {},
     "output_type": "display_data"
    }
   ],
   "source": [
    "def tanh(x):\n",
    "    a = []\n",
    "    for i in x:\n",
    "        a.append((math.exp(2*i)-1) / (math.exp(2*i)+1))\n",
    "    return(a)\n",
    "\n",
    "x = np.arange(-10., 10., 0.1)\n",
    "y = tanh(x)\n",
    "plt.plot(x,y)\n",
    "plt.axvline(x = 0, color = 'r', alpha = .5, linestyle = 'dashed')\n",
    "plt.title('Hyperbolic Tangent')\n",
    "plt.xlabel('Input')\n",
    "plt.ylabel('Output')\n",
    "plt.show()"
   ]
  },
  {
   "cell_type": "markdown",
   "metadata": {},
   "source": [
    "#### 2.3.4 Exponential Linear Units\n",
    "\n",
    "Besides not having a properly defined gradient at $z=0$, the ReLu suffers from an additional problem. Since ReLUs are non-negative, their mean activation is always larger than zero (*bias shift*) ([Clevert et al. 2016][4]). Counterintuitively, this *bias shift* is not a general problem, since the weights of the subsequent can adjust for this bias. However, additonal learning step might require longer learning. Therefore, learning can be speed up by centering the neuron's activation around zero [LeCub et al. 1991][5] (see also xxx. Batch normalization).  \n",
    "\n",
    "[Clevert et al. 2016][4] suggest to use the exponential linear units (ELU) in order to center activation via an appropriate activation function, while still assuring the activation to satuate to a negative value with smaller inputs:\n",
    "\n",
    "$$g(z) = \n",
    "\\begin{cases}\n",
    "    z &\\text{if $z > 0$}\\cr  \n",
    "    \\alpha(exp(z)-1) &\\text{if $z \\leq 0$}\n",
    "\\end{cases}$$\n",
    "\n",
    "were $\\alpha$ is a hyperparamter controlling the level of saturation for negative inputs. \n",
    "\n",
    "- Mean activation close to zero by allowing negative values\n",
    "- Still solves vanishing gradient problem, by having identity relationship for positive inputs\n",
    "- Noise-robust by allowing for saturation for negative inputs\n",
    "\n",
    "[4]: https://arxiv.org/pdf/1511.07289.pdf\n",
    "[5]: http://yann.lecun.com/exdb/publis/pdf/lecun-kanter-solla-91.pdf"
   ]
  },
  {
   "cell_type": "code",
   "execution_count": 15,
   "metadata": {
    "collapsed": false,
    "deletable": true,
    "editable": true
   },
   "outputs": [
    {
     "data": {
      "image/png": "[encoded data removed]",
      "text/plain": [
       "<matplotlib.figure.Figure at 0x105a2a198>"
      ]
     },
     "metadata": {},
     "output_type": "display_data"
    }
   ],
   "source": [
    "def elu(x, alpha):\n",
    "    a = []\n",
    "    for i in x:\n",
    "        if i > 0:\n",
    "            a.append(i)\n",
    "        else:\n",
    "            a.append(alpha*math.exp(i)-1)\n",
    "    return(a)\n",
    "\n",
    "x = np.arange(-10., 10., 0.1)\n",
    "y = elu(x, 1)\n",
    "plt.plot(x,y)\n",
    "plt.axvline(x = 0, color = 'r', alpha = .5, linestyle = 'dashed')\n",
    "plt.title('Exponential Linear Unit')\n",
    "plt.xlabel('Input')\n",
    "plt.ylabel('Output')\n",
    "plt.show()"
   ]
  }
 ],
 "metadata": {
  "kernelspec": {
   "display_name": "Python 3",
   "language": "python",
   "name": "python3"
  },
  "language_info": {
   "codemirror_mode": {
    "name": "ipython",
    "version": 3
   },
   "file_extension": ".py",
   "mimetype": "text/x-python",
   "name": "python",
   "nbconvert_exporter": "python",
   "pygments_lexer": "ipython3",
   "version": "3.4.3"
  }
 },
 "nbformat": 4,
 "nbformat_minor": 2
}
