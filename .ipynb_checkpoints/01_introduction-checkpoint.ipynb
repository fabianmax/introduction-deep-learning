{
 "cells": [
  {
   "cell_type": "markdown",
   "metadata": {},
   "source": [
    "# Introduction to Deep Learning with Python"
   ]
  },
  {
   "cell_type": "markdown",
   "metadata": {
    "collapsed": true
   },
   "source": [
    "## Chapter 1: Introduction"
   ]
  },
  {
   "cell_type": "markdown",
   "metadata": {},
   "source": [
    "### 1.1 Rosenblatt's Perceptron"
   ]
  },
  {
   "cell_type": "markdown",
   "metadata": {},
   "source": [
    "![Title (Source: https://blog.dbrgn.ch/2013/3/26/perceptrons-in-python/)](00_ressources/img/chapter_1/perceptron.png)"
   ]
  },
  {
   "cell_type": "code",
   "execution_count": 44,
   "metadata": {
    "collapsed": false
   },
   "outputs": [
    {
     "name": "stdout",
     "output_type": "stream",
     "text": [
      "[0 0]: -0.08448436899393708 -> 0\n",
      "[0 1]: 0.6073927449565363 -> 1\n",
      "[1 0]: 0.44868091597908 -> 1\n",
      "[1 1]: 1.1405580299295535 -> 1\n"
     ]
    }
   ],
   "source": [
    "# Coding Rosenblatt's Perceptron from scratch\n",
    "# -------------------------------------------\n",
    "import numpy as np\n",
    "\n",
    "# Step function\n",
    "def unit_step(x):\n",
    "    if x < 0:\n",
    "        return(0)\n",
    "    else:\n",
    "        return(1)\n",
    "    \n",
    "\n",
    "# Data\n",
    "training_data = [\n",
    "    (np.array([0,0,1]), 0),\n",
    "    (np.array([0,1,1]), 1),\n",
    "    (np.array([1,0,1]), 1),\n",
    "    (np.array([1,1,1]), 1),\n",
    "]\n",
    "\n",
    "w = np.random.rand(3) # Weights\n",
    "errors = []           # Errors\n",
    "eta = 0.2             # Learning rate\n",
    "n = 100               # Epochs\n",
    "\n",
    "# Training\n",
    "for i in range(n):\n",
    "    x, y = choice(training_data)\n",
    "    result = unit_step(np.dot(w, x))\n",
    "    error = y - result\n",
    "    errors.append(error)\n",
    "    w += eta * error * x\n",
    "\n",
    "# Prediction    \n",
    "for x, _ in training_data:\n",
    "    result = np.dot(x, w)\n",
    "    print(\"{}: {} -> {}\".format(x[:2], result, unit_step(result)))"
   ]
  },
  {
   "cell_type": "code",
   "execution_count": null,
   "metadata": {
    "collapsed": true
   },
   "outputs": [],
   "source": []
  }
 ],
 "metadata": {
  "kernelspec": {
   "display_name": "Python 3",
   "language": "python",
   "name": "python3"
  },
  "language_info": {
   "codemirror_mode": {
    "name": "ipython",
    "version": 3
   },
   "file_extension": ".py",
   "mimetype": "text/x-python",
   "name": "python",
   "nbconvert_exporter": "python",
   "pygments_lexer": "ipython3",
   "version": "3.5.1"
  }
 },
 "nbformat": 4,
 "nbformat_minor": 1
}
