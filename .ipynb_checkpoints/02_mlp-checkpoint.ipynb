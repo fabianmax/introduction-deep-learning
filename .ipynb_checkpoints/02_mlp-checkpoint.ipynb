{
 "cells": [
  {
   "cell_type": "markdown",
   "metadata": {},
   "source": [
    "# Introduction to Deep Learning with Python"
   ]
  },
  {
   "cell_type": "markdown",
   "metadata": {},
   "source": [
    "## Chapter 2: Multilayer Perceptrons"
   ]
  },
  {
   "cell_type": "markdown",
   "metadata": {},
   "source": [
    "### 2.1  Network Architecture\n",
    "\n",
    "Recall that a learning problem can be understood as approximating some function **$f^*$**, e.g. $y = f^*(x)$ maps the **input $x$** to some **output $y$**. And a learning algorithmen tries to learn the values of parameters $\\theta$ so that a given function $y = f(x;\\theta)$ approximates $f^*$ in the best possible way.   \n",
    "\n",
    "In the case of the perceptron, $f(x;\\theta)$ was the weighted some of the inputs and $\\theta$ was the weight vector ${[w_1, w_2, ..., w_n]}$ (and the bias $b)$. A multiplayer perceptron (MLP), also called Deep Learning, Deep feedforwards network, or feedforwards neural network, expands this idea by composing many functions together:\n",
    "\n",
    "$$f(x) = f^{(3)}(f^{(2)}(f^{(1)}(x)))$$\n",
    "\n",
    "Such directed acyclic graph, were $f^{(1)}$ is called the **first layer**, $f^{(2)}$ is called the **second layer**, and $f^{(3)}$ is called the **third layer**, can be seen as the typical archictecture used in modern neural networks. "
   ]
  },
  {
   "cell_type": "markdown",
   "metadata": {},
   "source": [
    "![Perceptron](00_ressources/img/chapter_2/network_architecture.jpeg)"
   ]
  },
  {
   "cell_type": "markdown",
   "metadata": {},
   "source": [
    "In chapter 1.2, we saw that learning $w$ is not that problematic. The real challange is having the rights inputs $x$. One way to solve this problem is to manually engineer a feature vector $\\phi(x)$ from the input vector $x$ using a nonlinear transformation $\\phi$. We than use $\\phi(x)$ instead of $x$ to solve the problem at hand. \n",
    "\n",
    "As already mentioned, support vector machines use an alternative method were $\\phi$ is a predefined function such as the radial basis function (RBF) kernel, which proven to be helpful in a lot of problems.  \n",
    "\n",
    "In contrast, deep learning does neither use manually engineered features nor predefined functions but tries to learn $\\phi$ from the given data:\n",
    "\n",
    "$$y = f(x;\\theta,w) = \\phi(x, \\theta)^{T}w,$$\n",
    "\n",
    "where $\\theta$ is a parameter vector used to learn a function $\\phi$, and $w$ is a weight vector that maps from $\\phi(x)$ to $y$. Or in other words, given a generic function $\\phi$ parametrized as $\\phi(x;\\theta)$, let an algorithmen find the best $\\theta$ to have a useful new repsentation (feature) of $x$.\n"
   ]
  },
  {
   "cell_type": "markdown",
   "metadata": {},
   "source": [
    "### 2.2 XOR Problem revisited\n",
    "\n",
    "Recall the **XOR** problem from last chapter where $X = \\{[0,0], [0,1], [1,0], [1,1]\\}$ and $y = \\{0,1,1,0\\}$. A single perceptron unit was not able to learn this problem correctly. Let's see whether a more complex models can handle it.\n",
    "\n",
    "Similar to the example above, a neural network with one hidden layer can be written as:\n",
    "\n",
    "$$f(x;w_1,b_1,w_2,b_2) = f^{(2)}(f^{(1)}(x)),$$\n",
    "\n",
    "where $w_1$ is the weight vector of the hidden layer, $b_1$ is the bias vector of the hidden layer, $w_2$ is the weight vector from the hidden layer to the output layer, and $b_2$ is the corresponding bias vector.\n",
    "\n",
    "Further one can unchain the expression and end up with \n",
    "\n",
    "$$h^* = f^1(x;w_1,b_1),$$\n",
    "\n",
    "where $h^*$ is the linear output from the first hidden layer and\n",
    "\n",
    "$$y=f^2(h;w_2,b_2)$$\n",
    "\n",
    "is the linear output layer. Finally, let $h=g(x;w_1,b_1)$ be a nonlinear activation function to the first hidden layer defined as $g(z) = max\\{0,z\\}$. "
   ]
  },
  {
   "cell_type": "code",
   "execution_count": 28,
   "metadata": {
    "collapsed": false
   },
   "outputs": [],
   "source": [
    "import numpy as np\n",
    "import random\n",
    "\n",
    "# Same data (this time without bias)\n",
    "X = np.array([[0,0], \n",
    "              [0,1], \n",
    "              [1,0], \n",
    "              [1,1]]\n",
    "            )\n",
    "\n",
    "# Updated label\n",
    "y = np.array([0,1,1,0])\n",
    "\n",
    "# Weights of hidden units\n",
    "w_1 = np.array([[1,1],\n",
    "              [1,1]\n",
    "             ])\n",
    "\n",
    "# Bias of hidden units\n",
    "b_1 = np.array([0,-1])\n",
    "\n",
    "# Weights to output\n",
    "w_2 = np.array([1,-2])\n",
    "\n",
    "# Bias to output\n",
    "b_2 = 0"
   ]
  },
  {
   "cell_type": "markdown",
   "metadata": {},
   "source": [
    "Starting with the hidden layer, evaluate $f(x;w_1,b_1)$ by calculating $xw_1$:"
   ]
  },
  {
   "cell_type": "code",
   "execution_count": 29,
   "metadata": {
    "collapsed": false
   },
   "outputs": [
    {
     "name": "stdout",
     "output_type": "stream",
     "text": [
      "[[0 0]\n",
      " [1 1]\n",
      " [1 1]\n",
      " [2 2]]\n"
     ]
    }
   ],
   "source": [
    "xw_1 = np.dot(X, w_1)\n",
    "print(xw_1)"
   ]
  },
  {
   "cell_type": "markdown",
   "metadata": {},
   "source": [
    "... and add bias $b_1$ to the resulting matrix"
   ]
  },
  {
   "cell_type": "code",
   "execution_count": 30,
   "metadata": {
    "collapsed": false
   },
   "outputs": [
    {
     "name": "stdout",
     "output_type": "stream",
     "text": [
      "[[ 0 -1]\n",
      " [ 1  0]\n",
      " [ 1  0]\n",
      " [ 2  1]]\n"
     ]
    }
   ],
   "source": [
    "xw_1b_1 = xw_1 + b_1\n",
    "print(xw_1b_1)"
   ]
  },
  {
   "cell_type": "markdown",
   "metadata": {},
   "source": [
    "Element-wise applying $max\\{0,z\\}$ to $xw_1 + b_1$ gives $h$"
   ]
  },
  {
   "cell_type": "code",
   "execution_count": 34,
   "metadata": {
    "collapsed": false
   },
   "outputs": [
    {
     "name": "stdout",
     "output_type": "stream",
     "text": [
      "[[0 0]\n",
      " [1 0]\n",
      " [1 0]\n",
      " [2 1]]\n"
     ]
    }
   ],
   "source": [
    "# Rectified linear unit\n",
    "def relu(x):\n",
    "    if x > 0:\n",
    "        return(x)\n",
    "    else:\n",
    "        return(0)\n",
    "\n",
    "f = np.vectorize(relu)    \n",
    "h = f(xw_1b_1)\n",
    "print(h)"
   ]
  },
  {
   "cell_type": "markdown",
   "metadata": {},
   "source": [
    "Given $h$, $y$ can be calculated as $hw_2+b_2$"
   ]
  },
  {
   "cell_type": "code",
   "execution_count": 35,
   "metadata": {
    "collapsed": false
   },
   "outputs": [
    {
     "name": "stdout",
     "output_type": "stream",
     "text": [
      "[0 1 1 0]\n"
     ]
    }
   ],
   "source": [
    "out = np.dot(h, w_2)\n",
    "out = out + b_2\n",
    "print(out)"
   ]
  },
  {
   "cell_type": "markdown",
   "metadata": {},
   "source": [
    "### 2.3 Types of hidden Units"
   ]
  },
  {
   "cell_type": "markdown",
   "metadata": {},
   "source": []
  }
 ],
 "metadata": {
  "kernelspec": {
   "display_name": "Python 3",
   "language": "python",
   "name": "python3"
  },
  "language_info": {
   "codemirror_mode": {
    "name": "ipython",
    "version": 3
   },
   "file_extension": ".py",
   "mimetype": "text/x-python",
   "name": "python",
   "nbconvert_exporter": "python",
   "pygments_lexer": "ipython3",
   "version": "3.4.3"
  }
 },
 "nbformat": 4,
 "nbformat_minor": 2
}
