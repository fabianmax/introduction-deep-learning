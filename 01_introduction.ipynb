{
 "cells": [
  {
   "cell_type": "markdown",
   "metadata": {},
   "source": [
    "# Introduction to Deep Learning with Python"
   ]
  },
  {
   "cell_type": "markdown",
   "metadata": {
    "collapsed": true
   },
   "source": [
    "## Chapter 1: Introduction"
   ]
  },
  {
   "cell_type": "markdown",
   "metadata": {},
   "source": [
    "### 1.1 Rosenblatt's Perceptron"
   ]
  },
  {
   "cell_type": "markdown",
   "metadata": {},
   "source": [
    "![Title (Source: https://blog.dbrgn.ch/2013/3/26/perceptrons-in-python/)](00_ressources/img/chapter_1/perceptron.png)"
   ]
  },
  {
   "cell_type": "code",
   "execution_count": 29,
   "metadata": {
    "collapsed": false
   },
   "outputs": [
    {
     "name": "stdout",
     "output_type": "stream",
     "text": [
      "0: -0.108 -> 0 | 0\n",
      "1: 0.841 -> 1 | 1\n",
      "2: 0.861 -> 1 | 1\n",
      "3: 1.81 -> 1 | 1\n"
     ]
    }
   ],
   "source": [
    "# Coding Rosenblatt's Perceptron from scratch\n",
    "# -------------------------------------------\n",
    "import numpy as np\n",
    "import random\n",
    "\n",
    "random.seed(1)\n",
    "\n",
    "# Step function\n",
    "def unit_step(x):\n",
    "    if x < 0:\n",
    "        return(0)\n",
    "    else:\n",
    "        return(1)\n",
    "\n",
    "# Data\n",
    "X = np.array([[0,0,1], \n",
    "              [0,1,1], \n",
    "              [1,0,1], \n",
    "              [1,1,1]]\n",
    "            )\n",
    "# Label\n",
    "y = np.array([0,1,1,1])\n",
    "\n",
    "w = np.random.rand(3) # Weights\n",
    "errors = []           # Errors\n",
    "eta = 0.2             # Learning rate\n",
    "n = 100               # Epochs\n",
    "\n",
    "# Training\n",
    "for i in range(n):\n",
    "    # Get row index\n",
    "    index = random.randint(0,3)\n",
    "    # Define minibatch (online)\n",
    "    x_batch = X[index,:]\n",
    "    y_batch = y[index]\n",
    "    # Calculate activation\n",
    "    y_hat = unit_step(np.dot(w, x_batch))\n",
    "    # Caluclate error\n",
    "    error = y_batch - y_hat\n",
    "    errors.append(error)\n",
    "    # Update weights\n",
    "    w += eta * error * x_batch\n",
    "\n",
    "# Prediction  \n",
    "for index, x in enumerate(X):\n",
    "    y_hat = np.dot(x, w)\n",
    "    print(\"{}: {} -> {} | {}\".format(index, round(y_hat, 3), unit_step(y_hat), y[index]))\n",
    "    \n"
   ]
  },
  {
   "cell_type": "code",
   "execution_count": null,
   "metadata": {
    "collapsed": true
   },
   "outputs": [],
   "source": []
  }
 ],
 "metadata": {
  "kernelspec": {
   "display_name": "Python 3",
   "language": "python",
   "name": "python3"
  },
  "language_info": {
   "codemirror_mode": {
    "name": "ipython",
    "version": 3
   },
   "file_extension": ".py",
   "mimetype": "text/x-python",
   "name": "python",
   "nbconvert_exporter": "python",
   "pygments_lexer": "ipython3",
   "version": "3.5.1"
  }
 },
 "nbformat": 4,
 "nbformat_minor": 1
}
